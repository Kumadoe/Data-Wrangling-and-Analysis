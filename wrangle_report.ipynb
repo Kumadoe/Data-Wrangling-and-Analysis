{
 "cells": [
  {
   "cell_type": "markdown",
   "metadata": {},
   "source": [
    "## Reporting: wragle_report\n"
   ]
  },
  {
   "cell_type": "markdown",
   "metadata": {},
   "source": [
    "The wrangling process was done by first gathering three datasets, assesing them and finally cleaning them.\n",
    "\n",
    "### Gathering \n",
    " In the gathering process, three datasets were gathered. The first dataset was gathered using pandas read_csv function on a .csv file, the second dataset was gathered programatically usings the requests library and the third dataset was gathered from twitter's API using the tweepy library. \n",
    "\n",
    "\n",
    "### Assessing\n",
    " During assesment, which was done both programatically and visually, the listed below quality and tidiess issues were detected.\n",
    "\n",
    "#### Qualit issues\n",
    "1. twitter_archive: Timestamp has a data type object rather than datetime format\n",
    "\n",
    "2. twitter_archive: Some rows have atributes (text, ratings) not relating to dogs\n",
    "\n",
    "3. twitter_archive: Dropping 'in_reply_to_status_id' and 'in_reply_to_user_id' since the have 77 non-null values and also dropping retweeted_status_id,retweeted_status_user_id, and retweeted_status_timestamp since they also have 172 non-null values\n",
    "\n",
    "4. twitter_archive: Drop rows with rating_denominator not equivalent to 10 \n",
    "\n",
    "5. twitter_archive: Extract source of tweet from html anchor tags\n",
    "\n",
    "6. twitter_archive: Converting all 'None' values to 'NaN'\n",
    "\n",
    "7. twitter_archive: Dropping columns that will not be needed\n",
    "\n",
    "8. images: most rows with p1_dog or p2_dog or p3_dog as False were not related to dogs\n",
    "\n",
    "#### Tidiness issues\n",
    "1. twitter_archive: One variable in four columns (doggo,puppo,pupper, and floofer) \n",
    "\n",
    "2. twitter_archive: two variables in six columns (p1,p1_conf,p1_dog,p2,p2_conf,p2_dog,p3,p3_conf,p3_dog) \n",
    "\n",
    "3. All datasets needs to be merged\n",
    "\n",
    "\n",
    "### Cleaning \n",
    "\n",
    "During the cleaning process, tidiness issues were addressed first and quality issues we addressed next. \n",
    "For the tidiness issues, the four dog columns were merged into one column called dog_type in the twitter_archive dataset, the six picture prediction columns from the image dataset were merged into two columns and all the three datasets were joined together using the merge function.\n",
    "For the quality issues, datatype for timestamp was changed from object to date time, rows that did not relate to dogs were dropped, and columns that were not relevant to the study or columns that had outrageous number of null values were also dropped. During the process, NaN values which were represented by None were converted to NaN\n"
   ]
  },
  {
   "cell_type": "code",
   "execution_count": null,
   "metadata": {},
   "outputs": [],
   "source": []
  }
 ],
 "metadata": {
  "kernelspec": {
   "display_name": "Python 3",
   "language": "python",
   "name": "python3"
  },
  "language_info": {
   "codemirror_mode": {
    "name": "ipython",
    "version": 3
   },
   "file_extension": ".py",
   "mimetype": "text/x-python",
   "name": "python",
   "nbconvert_exporter": "python",
   "pygments_lexer": "ipython3",
   "version": "3.6.3"
  }
 },
 "nbformat": 4,
 "nbformat_minor": 2
}
